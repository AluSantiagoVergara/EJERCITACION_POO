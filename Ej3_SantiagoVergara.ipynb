{
  "nbformat": 4,
  "nbformat_minor": 0,
  "metadata": {
    "colab": {
      "provenance": [],
      "authorship_tag": "ABX9TyNqTKzHn2KFHbtvLtP1vjjr",
      "include_colab_link": true
    },
    "kernelspec": {
      "name": "python3",
      "display_name": "Python 3"
    },
    "language_info": {
      "name": "python"
    }
  },
  "cells": [
    {
      "cell_type": "markdown",
      "metadata": {
        "id": "view-in-github",
        "colab_type": "text"
      },
      "source": [
        "<a href=\"https://colab.research.google.com/github/AluSantiagoVergara/EJERCITACION_POO/blob/main/Ej3_SantiagoVergara.ipynb\" target=\"_parent\"><img src=\"https://colab.research.google.com/assets/colab-badge.svg\" alt=\"Open In Colab\"/></a>"
      ]
    },
    {
      "cell_type": "code",
      "execution_count": 15,
      "metadata": {
        "id": "K9yrabq3QQsC",
        "colab": {
          "base_uri": "https://localhost:8080/"
        },
        "outputId": "b8496df1-9567-44b6-9e02-4356dca06baa"
      },
      "outputs": [
        {
          "output_type": "stream",
          "name": "stdout",
          "text": [
            "Nombre de Cuenta: CuentaChevere\n",
            "Dinero disponible: 110.5\n",
            "Se han ingresado $20.5 exitosamente\n",
            "Nombre de Cuenta: CuentaChevere\n",
            "Dinero disponible: 131.0\n",
            "Se han retirado $30 exitosamente\n",
            "Nombre de Cuenta: CuentaChevere\n",
            "Dinero disponible: 101.0\n",
            "No puede ingresar valores negativos\n"
          ]
        }
      ],
      "source": [
        "class CuentaBancaria:\n",
        "\n",
        "  __saldo = float\n",
        "  __numeroCuenta = str\n",
        "\n",
        "  def __init__(self,saldo,numeroCuenta):\n",
        "    self.saldo = saldo\n",
        "    self.numeroCuenta = numeroCuenta\n",
        "\n",
        "  def imprimirEsto(self):\n",
        "    print(f\"Nombre de Cuenta: {self.numeroCuenta}\")\n",
        "    print(f\"Dinero disponible: {self.saldo}\")\n",
        "\n",
        "  def MeterPlata(self,plataIngresada):\n",
        "    if plataIngresada < 0:\n",
        "      print(f\"No puede ingresar valores negativos\")\n",
        "    else:\n",
        "      self.saldo += plataIngresada\n",
        "      print(f\"Se han ingresado ${plataIngresada} exitosamente\")\n",
        "  def SacarPlata(self,plataSacada):\n",
        "    if plataSacada < 0:\n",
        "      print(f\"No puede ingresar valores negativos\")\n",
        "    else:\n",
        "      self.saldo -= plataSacada\n",
        "      print(f\"Se han retirado ${plataSacada} exitosamente\")\n",
        "\n",
        "  def SoloConsultarSaldo(self):\n",
        "    return self.saldo\n",
        "\n",
        "Prueba = CuentaBancaria(110.50,\"CuentaChevere\")\n",
        "Prueba.imprimirEsto()\n",
        "Prueba.MeterPlata(20.50)\n",
        "Prueba.imprimirEsto()\n",
        "Prueba.SacarPlata(30)\n",
        "Prueba.imprimirEsto()\n",
        "Prueba.SoloConsultarSaldo()\n",
        "Prueba.SacarPlata(-20.5)\n",
        "\n"
      ]
    },
    {
      "cell_type": "code",
      "source": [],
      "metadata": {
        "id": "h9xqK32v4gbL"
      },
      "execution_count": 14,
      "outputs": []
    }
  ]
}