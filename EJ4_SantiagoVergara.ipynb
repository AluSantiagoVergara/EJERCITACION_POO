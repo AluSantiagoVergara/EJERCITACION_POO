{
  "nbformat": 4,
  "nbformat_minor": 0,
  "metadata": {
    "colab": {
      "provenance": [],
      "authorship_tag": "ABX9TyMGDjG3fhqZOfogbTads0sK",
      "include_colab_link": true
    },
    "kernelspec": {
      "name": "python3",
      "display_name": "Python 3"
    },
    "language_info": {
      "name": "python"
    }
  },
  "cells": [
    {
      "cell_type": "markdown",
      "metadata": {
        "id": "view-in-github",
        "colab_type": "text"
      },
      "source": [
        "<a href=\"https://colab.research.google.com/github/AluSantiagoVergara/EJERCITACION_POO/blob/main/EJ4_SantiagoVergara.ipynb\" target=\"_parent\"><img src=\"https://colab.research.google.com/assets/colab-badge.svg\" alt=\"Open In Colab\"/></a>"
      ]
    },
    {
      "cell_type": "code",
      "execution_count": 3,
      "metadata": {
        "colab": {
          "base_uri": "https://localhost:8080/"
        },
        "id": "SHhVGRjs8_Uu",
        "outputId": "ddc24aa9-68c5-4a08-bb92-1d0091cfef5d"
      },
      "outputs": [
        {
          "output_type": "stream",
          "name": "stdout",
          "text": [
            "Empleado: Ana | Modalidad de cobro: Es empleado/a por hora | Salario calculado: $1200.00\n",
            "Empleado: Luis | Modalidad de cobro: Es empleado/a de pago fijo | Salario calculado: $1500.00\n",
            "Empleado: Pedro | Modalidad de cobro: Es empleado/a por hora | Salario calculado: $960.00\n",
            "Empleado: Marta | Modalidad de cobro: Es empleado/a de pago fijo | Salario calculado: $2000.00\n"
          ]
        }
      ],
      "source": [
        "class Empleado:\n",
        "    def __init__(self, nombre):\n",
        "        self.nombre = nombre\n",
        "        self.como_es_la_paga = \"\"\n",
        "\n",
        "    def calcularSalario(self):\n",
        "        return 0  # Es un valor por defecto, no se me ocurrio otra cosa\n",
        "\n",
        "\n",
        "class EmpleadoPorHora(Empleado):\n",
        "    def __init__(self, nombre, horas_trabajadas, tarifa_por_hora):\n",
        "        super().__init__(nombre)\n",
        "        self.horas_trabajadas = horas_trabajadas\n",
        "        self.tarifa_por_hora = tarifa_por_hora\n",
        "        self.como_es_la_paga = \"Es empleado/a por hora\"\n",
        "\n",
        "    def calcularSalario(self):\n",
        "        return self.horas_trabajadas * self.tarifa_por_hora\n",
        "\n",
        "\n",
        "class EmpleadoFijo(Empleado):\n",
        "    def __init__(self, nombre, salario_mensual):\n",
        "        super().__init__(nombre)\n",
        "        self.salario_mensual = salario_mensual\n",
        "        self.como_es_la_paga = \"Es empleado/a de pago fijo\"\n",
        "\n",
        "    def calcularSalario(self):\n",
        "        return self.salario_mensual\n",
        "\n",
        "# Uso del polimorfismo\n",
        "\n",
        "empleados = [\n",
        "        EmpleadoPorHora(\"Ana\", 120, 10),\n",
        "        EmpleadoFijo(\"Luis\", 1500),\n",
        "        EmpleadoPorHora(\"Pedro\", 80, 12),\n",
        "        EmpleadoFijo(\"Marta\", 2000)\n",
        "]\n",
        "\n",
        "for empleado in empleados:\n",
        "        salario = empleado.calcularSalario()\n",
        "        print(f\"Empleado: {empleado.nombre} | Modalidad de cobro: {empleado.como_es_la_paga} | Salario calculado: ${salario:.2f}\")\n"
      ]
    }
  ]
}