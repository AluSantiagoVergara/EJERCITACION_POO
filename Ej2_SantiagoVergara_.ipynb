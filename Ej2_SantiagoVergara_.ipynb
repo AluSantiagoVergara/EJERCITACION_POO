{
  "nbformat": 4,
  "nbformat_minor": 0,
  "metadata": {
    "colab": {
      "provenance": [],
      "authorship_tag": "ABX9TyOGX0Sq/GQ/MCJY1hCnlvwb",
      "include_colab_link": true
    },
    "kernelspec": {
      "name": "python3",
      "display_name": "Python 3"
    },
    "language_info": {
      "name": "python"
    }
  },
  "cells": [
    {
      "cell_type": "markdown",
      "metadata": {
        "id": "view-in-github",
        "colab_type": "text"
      },
      "source": [
        "<a href=\"https://colab.research.google.com/github/AluSantiagoVergara/EJERCITACION_POO/blob/main/Ej2_SantiagoVergara_.ipynb\" target=\"_parent\"><img src=\"https://colab.research.google.com/assets/colab-badge.svg\" alt=\"Open In Colab\"/></a>"
      ]
    },
    {
      "cell_type": "code",
      "execution_count": 4,
      "metadata": {
        "id": "Nj8fcLJMfS2l",
        "colab": {
          "base_uri": "https://localhost:8080/"
        },
        "outputId": "7e33a2d6-d18f-4ca1-f990-ce1e07552fa5"
      },
      "outputs": [
        {
          "output_type": "stream",
          "name": "stdout",
          "text": [
            "No puedes conducir el coche Toyota porque está apagado.\n",
            "Toyota está encendido.\n",
            "Conduciendo el coche Toyota...\n",
            "Toyota se ha apagado.\n",
            "No puedes pedalear la bicicleta Montaña porque no está lista.\n",
            "La bicicleta Montaña está lista para usarse.\n",
            "Estás pedaleando la bicicleta Montaña...\n",
            "La bicicleta Montaña ha sido guardada.\n"
          ]
        }
      ],
      "source": [
        "from abc import ABC, abstractmethod\n",
        "\n",
        "# Clase abstracta Vehiculo\n",
        "class Vehiculo(ABC):\n",
        "    @abstractmethod\n",
        "    def encender(self):\n",
        "        pass\n",
        "\n",
        "    @abstractmethod\n",
        "    def apagar(self):\n",
        "        pass\n",
        "\n",
        "    @abstractmethod\n",
        "    def conducir(self):\n",
        "        pass\n",
        "\n",
        "# Clase concreta Coche\n",
        "class Coche(Vehiculo):\n",
        "    def __init__(self, marca):\n",
        "        self.marca = marca\n",
        "        self.encendido = False\n",
        "\n",
        "    def encender(self):\n",
        "        if not self.encendido:\n",
        "            self.encendido = True\n",
        "            print(f\"{self.marca} está encendido.\")\n",
        "        else:\n",
        "            print(f\"{self.marca} ya está encendido.\")\n",
        "\n",
        "    def apagar(self):\n",
        "        if self.encendido:\n",
        "            self.encendido = False\n",
        "            print(f\"{self.marca} se ha apagado.\")\n",
        "        else:\n",
        "            print(f\"{self.marca} ya está apagado.\")\n",
        "\n",
        "    def conducir(self):\n",
        "        if self.encendido:\n",
        "            print(f\"Conduciendo el coche {self.marca}...\")\n",
        "        else:\n",
        "            print(f\"No puedes conducir el coche {self.marca} porque está apagado.\")\n",
        "\n",
        "# Clase concreta Bicicleta\n",
        "class Bicicleta(Vehiculo):\n",
        "    def __init__(self, tipo):\n",
        "        self.tipo = tipo\n",
        "        self.en_uso = False\n",
        "\n",
        "    def encender(self):\n",
        "        # Para la bicicleta, \"encender\" es equivalente a \"prepararla para usar\"\n",
        "        if not self.en_uso:\n",
        "            self.en_uso = True\n",
        "            print(f\"La bicicleta {self.tipo} está lista para usarse.\")\n",
        "        else:\n",
        "            print(f\"La bicicleta {self.tipo} ya está lista.\")\n",
        "\n",
        "    def apagar(self):\n",
        "        if self.en_uso:\n",
        "            self.en_uso = False\n",
        "            print(f\"La bicicleta {self.tipo} ha sido guardada.\")\n",
        "        else:\n",
        "            print(f\"La bicicleta {self.tipo} ya está guardada.\")\n",
        "\n",
        "    def conducir(self):\n",
        "        if self.en_uso:\n",
        "            print(f\"Estás pedaleando la bicicleta {self.tipo}...\")\n",
        "        else:\n",
        "            print(f\"No puedes pedalear la bicicleta {self.tipo} porque no está lista.\")\n",
        "\n",
        "#Ejemplo de uso chevere\n",
        "\n",
        "    coche = Coche(\"Toyota\")\n",
        "    bicicleta = Bicicleta(\"Montaña\")\n",
        "\n",
        "    coche.conducir()\n",
        "    coche.encender()\n",
        "    coche.conducir()\n",
        "    coche.apagar()\n",
        "\n",
        "    bicicleta.conducir()\n",
        "    bicicleta.encender()\n",
        "    bicicleta.conducir()\n",
        "    bicicleta.apagar()\n"
      ]
    }
  ]
}