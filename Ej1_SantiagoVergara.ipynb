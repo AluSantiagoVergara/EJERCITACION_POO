{
  "nbformat": 4,
  "nbformat_minor": 0,
  "metadata": {
    "colab": {
      "provenance": [],
      "authorship_tag": "ABX9TyMb1mVEEBj1VFSDMhGjpiJh",
      "include_colab_link": true
    },
    "kernelspec": {
      "name": "python3",
      "display_name": "Python 3"
    },
    "language_info": {
      "name": "python"
    }
  },
  "cells": [
    {
      "cell_type": "markdown",
      "metadata": {
        "id": "view-in-github",
        "colab_type": "text"
      },
      "source": [
        "<a href=\"https://colab.research.google.com/github/AluSantiagoVergara/EJERCITACION_POO/blob/main/Ej1_SantiagoVergara.ipynb\" target=\"_parent\"><img src=\"https://colab.research.google.com/assets/colab-badge.svg\" alt=\"Open In Colab\"/></a>"
      ]
    },
    {
      "cell_type": "code",
      "execution_count": 5,
      "metadata": {
        "colab": {
          "base_uri": "https://localhost:8080/"
        },
        "id": "5ATjfkwyQDTw",
        "outputId": "faf41e37-8ccf-4e9e-ae1a-903005fe5ff4"
      },
      "outputs": [
        {
          "output_type": "stream",
          "name": "stdout",
          "text": [
            "Figura: Circulo\n",
            "Color: Azul\n",
            "Radio: 5\n",
            "Área: 15.707963267948966\n",
            "Perímetro: 31.41592653589793\n",
            "-----------------------------\n",
            "Figura: Rectángulo\n",
            "Color: Rojo\n",
            "Base: 4\n",
            "Altura: 6\n",
            "Área: 24\n",
            "Perímetro: 20\n"
          ]
        }
      ],
      "source": [
        "#Gracias por la enseñanza de la clase pasada\n",
        "import math\n",
        "\n",
        "#Esta es la clase padre todapoderosa\n",
        "\n",
        "class Figura:\n",
        "  def __init__(self,nombre,color):\n",
        "    self.nombre = nombre\n",
        "    self.color = color\n",
        "\n",
        "  def imprimirDetalles(self):\n",
        "    print(f\"Figura: {self.nombre}\")\n",
        "    print(f\"Color: {self.color}\")\n",
        "\n",
        "#Clase hijo Circulo\n",
        "\n",
        "class Circulo(Figura):\n",
        "  def __init__(self, color, radio):\n",
        "    super().__init__(\"Circulo\", color)\n",
        "    self.radio = radio\n",
        "\n",
        "  def calcularArea(self):\n",
        "    return math.pi * self.radio\n",
        "\n",
        "  def calcularPerimetro(self):\n",
        "        return 2 * self.radio * math.pi\n",
        "\n",
        "  def imprimir_detalles(self):\n",
        "        super().imprimirDetalles()\n",
        "        print(f\"Radio: {self.radio}\")\n",
        "        print(f\"Área: {self.calcularArea():}\")\n",
        "        print(f\"Perímetro: {self.calcularPerimetro()}\")\n",
        "        print(\"-----------------------------\")\n",
        "\n",
        "#prueba del circulo\n",
        "circuloPaProbar = Circulo(color=\"Azul\" , radio=5)\n",
        "circuloPaProbar.imprimir_detalles()\n",
        "\n",
        "#Clase Rectangulo\n",
        "class Rectangulo(Figura):\n",
        "    def __init__(self, color, base, altura):\n",
        "        super().__init__(\"Rectángulo\", color)\n",
        "        self.base = base\n",
        "        self.altura = altura\n",
        "\n",
        "    def calcular_area(self):\n",
        "        return self.base * self.altura\n",
        "\n",
        "    def calcular_perimetro(self):\n",
        "        return 2 * (self.base + self.altura)\n",
        "\n",
        "    def imprimir_detalles(self):\n",
        "        super().imprimirDetalles()\n",
        "        print(f\"Base: {self.base}\")\n",
        "        print(f\"Altura: {self.altura}\")\n",
        "        print(f\"Área: {self.calcular_area()}\")\n",
        "        print(f\"Perímetro: {self.calcular_perimetro()}\")\n",
        "\n",
        "rectanguloPaProbar = Rectangulo(color=\"Rojo\" , base= 4 , altura= 6 )\n",
        "rectanguloPaProbar.imprimir_detalles()"
      ]
    }
  ]
}