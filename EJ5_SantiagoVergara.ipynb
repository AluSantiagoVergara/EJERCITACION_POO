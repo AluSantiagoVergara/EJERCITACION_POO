{
  "nbformat": 4,
  "nbformat_minor": 0,
  "metadata": {
    "colab": {
      "provenance": [],
      "authorship_tag": "ABX9TyOiQu9wk4PZur3oowB5TNEt",
      "include_colab_link": true
    },
    "kernelspec": {
      "name": "python3",
      "display_name": "Python 3"
    },
    "language_info": {
      "name": "python"
    }
  },
  "cells": [
    {
      "cell_type": "markdown",
      "metadata": {
        "id": "view-in-github",
        "colab_type": "text"
      },
      "source": [
        "<a href=\"https://colab.research.google.com/github/AluSantiagoVergara/EJERCITACION_POO/blob/main/EJ5_SantiagoVergara.ipynb\" target=\"_parent\"><img src=\"https://colab.research.google.com/assets/colab-badge.svg\" alt=\"Open In Colab\"/></a>"
      ]
    },
    {
      "cell_type": "code",
      "execution_count": 6,
      "metadata": {
        "colab": {
          "base_uri": "https://localhost:8080/"
        },
        "id": "_tPoCmi6A3v3",
        "outputId": "48e9a0ae-2b13-48c3-d86c-6aeee9a1223f"
      },
      "outputs": [
        {
          "output_type": "stream",
          "name": "stdout",
          "text": [
            "Estudiante de Grado: Juan\n",
            "Notas: [8.5, 7.0, 9.0]\n",
            "Promedio: 8.17\n",
            "---------------------------\n",
            "Estudiante de Posgrado: María\n",
            "Tesis calificada: No\n",
            "Promedio (basado en tesis): 0.00\n",
            "---------------------------\n",
            "Estudiante de Grado: Ana\n",
            "Notas: [6.0, 7.5, 8.0, 9.5]\n",
            "Promedio: 7.75\n",
            "---------------------------\n",
            "Estudiante de Posgrado: Luis\n",
            "Tesis calificada: Sí\n",
            "Promedio (basado en tesis): 10.00\n",
            "---------------------------\n",
            "Trabajo Terminado, nos vemos el miercoles, o puede que despues del receso, dependera de si termino o no la otra tarea. Como sea, chau y buenas noches.\n"
          ]
        }
      ],
      "source": [
        "from abc import ABC, abstractmethod\n",
        "\n",
        "# Clase abstracta Estudiante\n",
        "class Estudiante(ABC):\n",
        "    def __init__(self, nombre):\n",
        "        self.__nombre = nombre\n",
        "\n",
        "    @abstractmethod\n",
        "    def obtenerPromedio(self):\n",
        "        pass\n",
        "\n",
        "    @abstractmethod\n",
        "    def mostrarInformacion(self):\n",
        "        pass\n",
        "\n",
        "    def MostrarNombre(self):\n",
        "        return self.__nombre\n",
        "\n",
        "#EstudianteDeGrado\n",
        "\n",
        "class EstudianteDeGrado(Estudiante):\n",
        "    def __init__(self, nombre, notas):\n",
        "        super().__init__(nombre)\n",
        "        self.__notas = notas\n",
        "\n",
        "    def obtenerPromedio(self):\n",
        "        if len(self.__notas) == 0:\n",
        "            return 0.0\n",
        "        return sum(self.__notas) / len(self.__notas)\n",
        "\n",
        "    def mostrarInformacion(self):\n",
        "        print(f\"Estudiante de Grado: {self.MostrarNombre()}\")\n",
        "        print(f\"Notas: {self.__notas}\")\n",
        "        print(f\"Promedio: {self.obtenerPromedio():.2f}\")\n",
        "        print(\"---------------------------\")\n",
        "\n",
        "    def agregarNota(self, nota):\n",
        "        self.__notas.append(nota)\n",
        "\n",
        "# EstudianteDePosgrado\n",
        "\n",
        "class EstudianteDePosgrado(Estudiante):\n",
        "    def __init__(self, nombre, tesisCalificada):\n",
        "        super().__init__(nombre)\n",
        "        self.__tesisCalificada = tesisCalificada\n",
        "\n",
        "    def obtenerPromedio(self):\n",
        "        return 10.0 if self.__tesisCalificada else 0.0\n",
        "\n",
        "    def mostrarInformacion(self):\n",
        "        print(f\"Estudiante de Posgrado: {self.MostrarNombre()}\")\n",
        "        print(f\"Tesis calificada: {'Sí' if self.__tesisCalificada else 'No'}\")\n",
        "        print(f\"Promedio (basado en tesis): {self.obtenerPromedio():.2f}\")\n",
        "        print(\"---------------------------\")\n",
        "\n",
        "    def calificarTesis(self):\n",
        "        self.__tesisCalificada = True\n",
        "\n",
        "\n",
        "estudiantes = [\n",
        "    EstudianteDeGrado(\"Juan\", notas=[8.5, 7.0, 9.0]),\n",
        "    EstudianteDePosgrado(\"María\", tesisCalificada=False),\n",
        "    EstudianteDeGrado(\"Ana\", notas=[6.0, 7.5, 8.0, 9.5]),\n",
        "    EstudianteDePosgrado(\"Luis\", tesisCalificada=True)\n",
        "]\n",
        "\n",
        "\n",
        "for estudiante in estudiantes:\n",
        "    estudiante.mostrarInformacion()\n",
        "\n",
        "print(\"Trabajo Terminado, nos vemos el miercoles, o puede que despues del receso, dependera de si termino o no la otra tarea. Como sea, chau y buenas noches.\")"
      ]
    }
  ]
}